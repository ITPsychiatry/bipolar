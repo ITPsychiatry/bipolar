{
 "cells": [
  {
   "cell_type": "markdown",
   "id": "efbdb0ff-9976-4b11-8f93-4705fa67cffe",
   "metadata": {},
   "source": [
    "# Imports"
   ]
  },
  {
   "cell_type": "code",
   "execution_count": 1,
   "id": "2b0d9603-2d2b-4844-b4c4-f0c179552726",
   "metadata": {},
   "outputs": [],
   "source": [
    "import numpy as np\n",
    "import pandas as pd\n",
    "import scipy"
   ]
  },
  {
   "cell_type": "markdown",
   "id": "a8e4ce22-ca6e-476d-b7fd-d7bcafdf56ef",
   "metadata": {},
   "source": [
    "# Introduction\n",
    "\n",
    "First of all, we will use artificial small dataset to ease understanding of the general operations.\n",
    "\n",
    "Let us consider a matrix $[X]_{N,p}$ with $N=7$ observations and $p=3$ features.\n",
    "\n",
    "We will cluster into $c=2$ clusters."
   ]
  },
  {
   "cell_type": "code",
   "execution_count": 2,
   "id": "69a09e8d-2225-438c-944a-cddedffcf689",
   "metadata": {},
   "outputs": [],
   "source": [
    "n_samples = 7\n",
    "c = 2"
   ]
  },
  {
   "cell_type": "markdown",
   "id": "51fa8d66-d70c-4015-ab79-817c2f019d65",
   "metadata": {},
   "source": [
    "with a priori knowledge about first 3 observations included in the matrix $F$:\n",
    "<br>\n",
    "$$\n",
    "F=\n",
    "\\begin{bmatrix}\n",
    "1 & 0 \\\\\n",
    "1 & 0 \\\\\n",
    "0 & 1 \\\\\n",
    "0 & 0 \\\\ 0 & 0 \\\\ 0 & 0 \\\\ 0 & 0 \\\\\n",
    "\\end{bmatrix}\n",
    "$$"
   ]
  },
  {
   "cell_type": "code",
   "execution_count": 3,
   "id": "d21e3955-3c7a-4498-bf3b-f78c64ed3844",
   "metadata": {},
   "outputs": [],
   "source": [
    "F = np.array(\n",
    "[[1, 0], [1, 0], [0, 1], [0, 0], [0, 0], [0, 0], [0, 0]]    \n",
    ")"
   ]
  },
  {
   "cell_type": "markdown",
   "id": "2206de77-544f-4d6c-8212-b11f66a1a722",
   "metadata": {},
   "source": [
    "We need to set the **scaling factor** $\\alpha$, the most important parameter of SSFCM."
   ]
  },
  {
   "cell_type": "code",
   "execution_count": 4,
   "id": "54c44993-f8ce-42ef-9142-2b78ec8ca423",
   "metadata": {},
   "outputs": [],
   "source": [
    "alpha = 0.8"
   ]
  },
  {
   "cell_type": "markdown",
   "id": "7b5a73c5-27b2-4468-bc8a-9fd6c35a62b8",
   "metadata": {},
   "source": [
    "Matrix $X$ will be simulated by sampling from $\\mathcal{N}(\\mu_p, 3)$, $\\mu_p = 5, 10, 15$."
   ]
  },
  {
   "cell_type": "code",
   "execution_count": 5,
   "id": "1ca45341-e2ff-4da4-a255-c80f1f235d4b",
   "metadata": {},
   "outputs": [],
   "source": [
    "rng = np.random.default_rng(12345)"
   ]
  },
  {
   "cell_type": "code",
   "execution_count": 6,
   "id": "f89e067f-0430-4320-8b99-e30aeb8bc882",
   "metadata": {},
   "outputs": [],
   "source": [
    "X = np.hstack((\n",
    "    rng.normal(loc=5, scale=3, size=7).reshape(n_samples, 1),\n",
    "    rng.normal(loc=10, scale=3, size=7).reshape(n_samples, 1),\n",
    "    rng.normal(loc=15, scale=3, size=7).reshape(n_samples, 1)\n",
    "))"
   ]
  },
  {
   "cell_type": "code",
   "execution_count": 7,
   "id": "819d1f48-14a5-465c-ad34-b1528cabc1f4",
   "metadata": {},
   "outputs": [],
   "source": [
    "pd.DataFrame(X, columns=[\"X1\", \"X2\", \"X3\"]).to_csv(\"X.csv\", index=False)"
   ]
  },
  {
   "cell_type": "markdown",
   "id": "7e624425-cd97-48df-bdb0-44dd94da349a",
   "metadata": {},
   "source": [
    "# The optimization procedure"
   ]
  },
  {
   "cell_type": "markdown",
   "id": "72d4e447-4834-4c7f-9c03-83378671ba7a",
   "metadata": {},
   "source": [
    "The optimiziation procedure in SSFCM is an iterative procedure.\n",
    "\n",
    "We optimize two variables: matrix $U$ and matrix $V$ until a selected convergence criterion is met.\n",
    "\n",
    "Instead of optimizing it at the same time, which is unfeasible, we keep one of them fixed (e.g. $U$), and use it as the input when optimizing the other (in this example: $V$).\n",
    "\n",
    "Such a procedure requires something to start with - thus we simulate a random matrix $U$ and normalize it so it satisfies the conditions of the optimization problem in step $l=0$, and then in each step $l=1, \\ldots$ we first:<br>\n",
    "1. keep $U$ fixed and calculate $V$ (since $U$ together with $X$ is an input to $V$),\n",
    "2. keep the $V$ calculated in the step above fixed and calculate updated $U$ (since $V$ together with $X$ is an input to $U$)."
   ]
  },
  {
   "cell_type": "markdown",
   "id": "765bae1b-1880-4623-b154-464fe053c600",
   "metadata": {},
   "source": [
    "# Step $l=0$ initiate dummy $U$"
   ]
  },
  {
   "cell_type": "code",
   "execution_count": 8,
   "id": "c1cd1767-6c61-49cb-baa7-96f794f6026d",
   "metadata": {},
   "outputs": [],
   "source": [
    "u_not_normalized = rng.uniform(size=(n_samples, c))"
   ]
  },
  {
   "cell_type": "code",
   "execution_count": 9,
   "id": "7620f937-298d-4a19-9c7a-17f50607f54f",
   "metadata": {},
   "outputs": [
    {
     "data": {
      "text/plain": [
       "array([[0.1598956 , 0.34010018],\n",
       "       [0.46519315, 0.26642103],\n",
       "       [0.8157764 , 0.19329439],\n",
       "       [0.12946908, 0.09166475],\n",
       "       [0.59856801, 0.8547419 ],\n",
       "       [0.60162124, 0.93198836],\n",
       "       [0.72478136, 0.86055132]])"
      ]
     },
     "execution_count": 9,
     "metadata": {},
     "output_type": "execute_result"
    }
   ],
   "source": [
    "u_not_normalized"
   ]
  },
  {
   "cell_type": "markdown",
   "id": "af14794a-21c8-476f-bc8f-eb3ad48df9dd",
   "metadata": {},
   "source": [
    "We need to assure the condition $\\sum_{k=1}^2 u_{jk} = 1 $ is met.\n",
    "\n",
    "To this end, we calculate row-wise sums, and present it in a form of a $\\text{n_samples} \\times 1$ matrix."
   ]
  },
  {
   "cell_type": "code",
   "execution_count": 10,
   "id": "17325e86-431b-4243-9a83-3a0492b71953",
   "metadata": {},
   "outputs": [],
   "source": [
    "row_sums = u_not_normalized.sum(axis=1)[np.newaxis].T"
   ]
  },
  {
   "cell_type": "code",
   "execution_count": 11,
   "id": "6771bbe6-7e54-45f8-a8df-b23ec2d2d5da",
   "metadata": {},
   "outputs": [
    {
     "data": {
      "text/plain": [
       "array([[0.49999579],\n",
       "       [0.73161418],\n",
       "       [1.00907079],\n",
       "       [0.22113383],\n",
       "       [1.45330992],\n",
       "       [1.5336096 ],\n",
       "       [1.58533268]])"
      ]
     },
     "execution_count": 11,
     "metadata": {},
     "output_type": "execute_result"
    }
   ],
   "source": [
    "row_sums"
   ]
  },
  {
   "cell_type": "markdown",
   "id": "2a384d4f-d426-4256-a800-82ce90371835",
   "metadata": {},
   "source": [
    "We can now use `np.tile(A, reps)` function [(see doc)](https://numpy.org/doc/stable/reference/generated/numpy.tile.html)\n",
    "to \"Construct an array by repeating A the number of times given by reps\"."
   ]
  },
  {
   "cell_type": "code",
   "execution_count": 12,
   "id": "3a7827f7-c22c-449d-836d-0a4552f88733",
   "metadata": {},
   "outputs": [
    {
     "data": {
      "text/plain": [
       "array([[0.49999579, 0.49999579],\n",
       "       [0.73161418, 0.73161418],\n",
       "       [1.00907079, 1.00907079],\n",
       "       [0.22113383, 0.22113383],\n",
       "       [1.45330992, 1.45330992],\n",
       "       [1.5336096 , 1.5336096 ],\n",
       "       [1.58533268, 1.58533268]])"
      ]
     },
     "execution_count": 12,
     "metadata": {},
     "output_type": "execute_result"
    }
   ],
   "source": [
    "np.tile(row_sums, c)"
   ]
  },
  {
   "cell_type": "markdown",
   "id": "e1c45ca9-6919-4af2-8109-b74fccde3303",
   "metadata": {},
   "source": [
    "Finally, we arrive at a normalized matrix $U^{(l=0)}$"
   ]
  },
  {
   "cell_type": "code",
   "execution_count": 13,
   "id": "11caef03-fc46-48b2-a583-5828dfcc7699",
   "metadata": {},
   "outputs": [],
   "source": [
    "U_dummy = u_not_normalized / row_sums"
   ]
  },
  {
   "cell_type": "code",
   "execution_count": 14,
   "id": "3b165c78-b9db-454d-9255-0f57c9bba5ed",
   "metadata": {},
   "outputs": [
    {
     "data": {
      "text/plain": [
       "array([[0.3197939 , 0.6802061 ],\n",
       "       [0.63584491, 0.36415509],\n",
       "       [0.80844318, 0.19155682],\n",
       "       [0.58547838, 0.41452162],\n",
       "       [0.41186536, 0.58813464],\n",
       "       [0.392291  , 0.607709  ],\n",
       "       [0.45717935, 0.54282065]])"
      ]
     },
     "execution_count": 14,
     "metadata": {},
     "output_type": "execute_result"
    }
   ],
   "source": [
    "U_dummy"
   ]
  },
  {
   "cell_type": "markdown",
   "id": "1c16934a-a0f1-4eac-8bd0-87ddd7f7d097",
   "metadata": {},
   "source": [
    "A simple check shows us `U` satisfies the requested condition:"
   ]
  },
  {
   "cell_type": "code",
   "execution_count": 15,
   "id": "d2a166f4-d16e-4566-a701-81c7b958fa22",
   "metadata": {},
   "outputs": [
    {
     "data": {
      "text/plain": [
       "array([1., 1., 1., 1., 1., 1., 1.])"
      ]
     },
     "execution_count": 15,
     "metadata": {},
     "output_type": "execute_result"
    }
   ],
   "source": [
    "U_dummy.sum(axis=1)"
   ]
  },
  {
   "cell_type": "markdown",
   "id": "23a59ede-3884-45e4-b50b-8fbd773f5b57",
   "metadata": {},
   "source": [
    "Initiliaze `U` as the first matrix with values from `U_dummy`"
   ]
  },
  {
   "cell_type": "code",
   "execution_count": 16,
   "id": "6096bc7c-0f40-46f0-8a0c-2290c3b8f3ac",
   "metadata": {},
   "outputs": [],
   "source": [
    "U = U_dummy"
   ]
  },
  {
   "cell_type": "markdown",
   "id": "de8b2cc9-4c23-40f7-a990-432f3367bc22",
   "metadata": {},
   "source": [
    "# Step $l=1$ calculate prototypes matrix $V$"
   ]
  },
  {
   "cell_type": "markdown",
   "id": "4ef9e040-eaff-4866-a687-71d8ded746b9",
   "metadata": {},
   "source": [
    "The regular FCM algorithm provides a formula for each $v_k$ on its own:\n",
    "\n",
    "$$\n",
    "v_k = \\frac{\n",
    "\\sum\\limits_{j=1}^{7} u^2_{jk} \\cdot \\mathbf{x}_j\n",
    "}\n",
    "{\n",
    "\\sum\\limits_{j=1}^{7} u^2_{jk}\n",
    "}\n",
    "$$"
   ]
  },
  {
   "cell_type": "markdown",
   "id": "64e76d58-b305-4d0a-9783-582995f7c0e8",
   "metadata": {},
   "source": [
    "Using `numpy`, one can achieve by multiplying the transposed $X$ and $U$, and transposing the result of this multiplication."
   ]
  },
  {
   "cell_type": "code",
   "execution_count": 17,
   "id": "bc7172da-eb9e-4a4d-acc5-c0f84d24d36d",
   "metadata": {},
   "outputs": [
    {
     "data": {
      "text/plain": [
       "array([[ 3.9605454 ,  9.96556552, 15.88707116],\n",
       "       [ 2.89866951, 11.65441908, 16.14858076]])"
      ]
     },
     "execution_count": 17,
     "metadata": {},
     "output_type": "execute_result"
    }
   ],
   "source": [
    "(X.T @ U**2 / np.sum(U**2, axis=0)).T"
   ]
  },
  {
   "cell_type": "markdown",
   "id": "be88e01c-8d41-484a-bca8-df7bb1857ecd",
   "metadata": {},
   "source": [
    "<p span style=\"color:red\">\n",
    "PLACEHOLDER FOR SHOWING THAT THIS MATRIX CALCULATION IS OK    \n",
    "</p>"
   ]
  },
  {
   "cell_type": "markdown",
   "id": "2f0e1598-f36b-4600-b844-5681b7cdfe02",
   "metadata": {},
   "source": [
    "In case of SSFCM, the formula is\n",
    "$$\n",
    "v_k = \\frac{\n",
    "\\sum\\limits_{j=1}^7 \\phi_{jk} \\cdot \\mathbf{x}_j\n",
    "}{\n",
    "\\sum\\limits_{j=1}^7 \\phi_{jk}\n",
    "}\n",
    "$$\n",
    "where\n",
    "$$\n",
    "\\phi_{jk} = \n",
    "u^2_{jk} + \\alpha b_j (u_{jk} - f_{jk})^2.\n",
    "$$"
   ]
  },
  {
   "cell_type": "markdown",
   "id": "202f620b-3ac1-4a62-aa02-44797b61b6c2",
   "metadata": {},
   "source": [
    "So, we simply need to calculate matrix $\\Phi = [\\phi_{jk}]$, and perform the same operation as above."
   ]
  },
  {
   "cell_type": "code",
   "execution_count": 18,
   "id": "16b6842a-81dc-472c-b15c-9a8e25ab6a66",
   "metadata": {},
   "outputs": [
    {
     "data": {
      "text/plain": [
       "array([[0.3197939 , 0.6802061 ],\n",
       "       [0.63584491, 0.36415509],\n",
       "       [0.80844318, 0.19155682],\n",
       "       [0.58547838, 0.41452162],\n",
       "       [0.41186536, 0.58813464],\n",
       "       [0.392291  , 0.607709  ],\n",
       "       [0.45717935, 0.54282065]])"
      ]
     },
     "execution_count": 18,
     "metadata": {},
     "output_type": "execute_result"
    }
   ],
   "source": [
    "U"
   ]
  },
  {
   "cell_type": "code",
   "execution_count": 19,
   "id": "575d43ab-4de0-4ea7-baf2-57b93bd5a6b6",
   "metadata": {},
   "outputs": [
    {
     "data": {
      "text/plain": [
       "array([[1, 0],\n",
       "       [1, 0],\n",
       "       [0, 1],\n",
       "       [0, 0],\n",
       "       [0, 0],\n",
       "       [0, 0],\n",
       "       [0, 0]])"
      ]
     },
     "execution_count": 19,
     "metadata": {},
     "output_type": "execute_result"
    }
   ],
   "source": [
    "F"
   ]
  },
  {
   "cell_type": "code",
   "execution_count": 20,
   "id": "53e561fb-3bbe-4e62-9c91-8126add2db6d",
   "metadata": {},
   "outputs": [],
   "source": [
    "UF = alpha * (U - F)**2"
   ]
  },
  {
   "cell_type": "code",
   "execution_count": 21,
   "id": "541cf156-3acf-499a-9e88-06333d4ec074",
   "metadata": {},
   "outputs": [
    {
     "data": {
      "text/plain": [
       "array([[0.37014427, 0.37014427],\n",
       "       [0.10608714, 0.10608714],\n",
       "       [0.5228643 , 0.5228643 ],\n",
       "       [0.27422795, 0.13746254],\n",
       "       [0.13570646, 0.27672188],\n",
       "       [0.12311378, 0.29544818],\n",
       "       [0.16721037, 0.23572341]])"
      ]
     },
     "execution_count": 21,
     "metadata": {},
     "output_type": "execute_result"
    }
   ],
   "source": [
    "UF"
   ]
  },
  {
   "cell_type": "markdown",
   "id": "8e4174f3-d09d-4e28-ae67-3e568f9121eb",
   "metadata": {},
   "source": [
    "`UF` corresponds to the $\\alpha b_j (u_{jk} - f_{jk})^2$, but we still need to include $b_j$, i.e. zero out this term for non-supervised observations indexed by $h$.\n",
    "\n",
    "In a matrix form, we can do it by setting the indices, and updating corresponding rows of `UF` setting them to $0$."
   ]
  },
  {
   "cell_type": "code",
   "execution_count": 22,
   "id": "93ce66b6-6352-4deb-ba51-846be9e43812",
   "metadata": {},
   "outputs": [],
   "source": [
    "i_indices = F.sum(axis=1).nonzero()[0]"
   ]
  },
  {
   "cell_type": "code",
   "execution_count": 23,
   "id": "5b50abf5-e6d5-4eb3-ab7d-367809652365",
   "metadata": {},
   "outputs": [
    {
     "data": {
      "text/plain": [
       "array([0, 1, 2])"
      ]
     },
     "execution_count": 23,
     "metadata": {},
     "output_type": "execute_result"
    }
   ],
   "source": [
    "i_indices"
   ]
  },
  {
   "cell_type": "code",
   "execution_count": 24,
   "id": "215565ec-c4d0-4f51-b002-9f99714920ad",
   "metadata": {},
   "outputs": [],
   "source": [
    "j_indices = np.arange(0, F.shape[0])"
   ]
  },
  {
   "cell_type": "code",
   "execution_count": 25,
   "id": "e36a4922-4811-4a3f-a2ae-eba9703898b5",
   "metadata": {},
   "outputs": [
    {
     "data": {
      "text/plain": [
       "array([0, 1, 2, 3, 4, 5, 6])"
      ]
     },
     "execution_count": 25,
     "metadata": {},
     "output_type": "execute_result"
    }
   ],
   "source": [
    "j_indices"
   ]
  },
  {
   "cell_type": "code",
   "execution_count": 26,
   "id": "64b6677e-bdab-4bd5-a09e-4d2975054aaa",
   "metadata": {},
   "outputs": [],
   "source": [
    "h_indices = np.setdiff1d(j_indices, i_indices)"
   ]
  },
  {
   "cell_type": "code",
   "execution_count": 27,
   "id": "435536b9-dcd8-467f-a91d-c70b5ce90664",
   "metadata": {},
   "outputs": [
    {
     "data": {
      "text/plain": [
       "array([3, 4, 5, 6])"
      ]
     },
     "execution_count": 27,
     "metadata": {},
     "output_type": "execute_result"
    }
   ],
   "source": [
    "h_indices"
   ]
  },
  {
   "cell_type": "code",
   "execution_count": 28,
   "id": "95fcf30f-d06b-40a3-8d51-6fbe395deb63",
   "metadata": {},
   "outputs": [],
   "source": [
    "UF[h_indices] = 0."
   ]
  },
  {
   "cell_type": "code",
   "execution_count": 29,
   "id": "4b4d11ed-4093-4065-a497-0d224781feae",
   "metadata": {},
   "outputs": [
    {
     "data": {
      "text/plain": [
       "array([[0.37014427, 0.37014427],\n",
       "       [0.10608714, 0.10608714],\n",
       "       [0.5228643 , 0.5228643 ],\n",
       "       [0.        , 0.        ],\n",
       "       [0.        , 0.        ],\n",
       "       [0.        , 0.        ],\n",
       "       [0.        , 0.        ]])"
      ]
     },
     "execution_count": 29,
     "metadata": {},
     "output_type": "execute_result"
    }
   ],
   "source": [
    "UF"
   ]
  },
  {
   "cell_type": "markdown",
   "id": "e9999934-82e3-4d6e-8689-bd8f14e13996",
   "metadata": {},
   "source": [
    "The final step to obtain $\\Phi$ is"
   ]
  },
  {
   "cell_type": "code",
   "execution_count": 30,
   "id": "09b11b88-8cd1-4a16-aff0-72ddd9061c0a",
   "metadata": {},
   "outputs": [],
   "source": [
    "Phi = U**2 + UF"
   ]
  },
  {
   "cell_type": "code",
   "execution_count": 31,
   "id": "266eae5b-b9c7-4cfb-9ec8-847ea68bb262",
   "metadata": {},
   "outputs": [
    {
     "data": {
      "text/plain": [
       "array([[0.47241241, 0.83282462],\n",
       "       [0.51038589, 0.23869607],\n",
       "       [1.17644468, 0.55955832],\n",
       "       [0.34278494, 0.17182817],\n",
       "       [0.16963308, 0.34590235],\n",
       "       [0.15389223, 0.36931023],\n",
       "       [0.20901296, 0.29465426]])"
      ]
     },
     "execution_count": 31,
     "metadata": {},
     "output_type": "execute_result"
    }
   ],
   "source": [
    "Phi"
   ]
  },
  {
   "cell_type": "markdown",
   "id": "f8b1c483-0946-42cc-9f56-0e83b5a84bb0",
   "metadata": {},
   "source": [
    "You can see that `Phi` ($\\Phi$) is different from `U**2` only for the supervised rows indexed by $i$"
   ]
  },
  {
   "cell_type": "code",
   "execution_count": 32,
   "id": "ea0cbef1-b5f4-4ce5-b4a1-eccf5ed52c43",
   "metadata": {},
   "outputs": [
    {
     "data": {
      "text/plain": [
       "array([[0.10226814, 0.46268034],\n",
       "       [0.40429875, 0.13260893],\n",
       "       [0.65358038, 0.03669401],\n",
       "       [0.34278494, 0.17182817],\n",
       "       [0.16963308, 0.34590235],\n",
       "       [0.15389223, 0.36931023],\n",
       "       [0.20901296, 0.29465426]])"
      ]
     },
     "execution_count": 32,
     "metadata": {},
     "output_type": "execute_result"
    }
   ],
   "source": [
    "U**2"
   ]
  },
  {
   "cell_type": "markdown",
   "id": "b273865f-39f0-4098-9fef-31a5d8ea29cb",
   "metadata": {},
   "source": [
    "Then, matrix $V$ in SSFCM is calculated by"
   ]
  },
  {
   "cell_type": "markdown",
   "id": "6f9e244a-bffd-4829-a4d0-9419790a674e",
   "metadata": {},
   "source": [
    "Previous code from FCM that we need to reflect using `Phi`\n",
    "```python\n",
    "(X.T @ U**2 / np.sum(U**2, axis=0)).T\n",
    "```"
   ]
  },
  {
   "cell_type": "code",
   "execution_count": 33,
   "id": "c05cbe1c-efa9-43f0-b88a-66109bd6aa0e",
   "metadata": {},
   "outputs": [],
   "source": [
    "V = (X.T @ Phi / np.sum(Phi, axis=0)).T"
   ]
  },
  {
   "cell_type": "code",
   "execution_count": 34,
   "id": "610fca76-ca6b-49fd-b450-2df11c30c5ff",
   "metadata": {},
   "outputs": [
    {
     "data": {
      "text/plain": [
       "array([[ 3.4642421 ,  9.24276663, 15.82553729],\n",
       "       [ 2.74040953, 10.27474641, 15.98930677]])"
      ]
     },
     "execution_count": 34,
     "metadata": {},
     "output_type": "execute_result"
    }
   ],
   "source": [
    "V"
   ]
  },
  {
   "cell_type": "markdown",
   "id": "5fe1cc50-0ee0-45d6-95bd-d83f6186dd05",
   "metadata": {},
   "source": [
    "# Step $l=1$ calculate memberships matrix $U$"
   ]
  },
  {
   "cell_type": "markdown",
   "id": "d184fd0b-7dc3-4880-905c-8b7d0fc6a9c0",
   "metadata": {},
   "source": [
    "In the classical, unsupervised case, we only deal with memberships $u_{jk}$ of $j-$th observation to $k-$th cluster.\n",
    "\n",
    "With the semi-supervised case, we have 3 types of memberships:\n",
    "1. membership of an unsupervised observation $h$ to any $k-$th cluster: $u_{hk}$,\n",
    "2. membership of a supervised observation $i$ to any non-supervised cluster $k \\neq s(i)$: $u_{i,k \\neq s(i)}$,\n",
    "3. membership of a supervised observation $i$ to a supervised cluster $s(i)$: $u_{i,s(i)}$.\n",
    "\n",
    "A general formula for $u_{jk}$ in case of SSFCM is\n",
    "\n",
    "$$\n",
    "\\begin{equation}\n",
    "\\begin{aligned}\n",
    "\\hat{u}_{jk} = {} \n",
    "    \\frac{\n",
    "        1 + \\alpha\n",
    "        \\cdot \n",
    "        \\big( 1 - b_j \\cdot \\sum_{s=1}^{c} f_{js} \\big)\n",
    "    }{\n",
    "        1 + \\alpha\n",
    "    }  \n",
    "    \\cdot\n",
    "        \\frac{\n",
    "            1\n",
    "        }{\n",
    "            \\sum_{s=1}^{c} \n",
    "            \\big( {d_{jk}^2} / {d_{js}^2} \\big)\n",
    "        }\n",
    "    +\n",
    "    \\frac{\\alpha}{1+\\alpha}\n",
    "    \\cdot \n",
    "    \\big(\n",
    "    f_{jk} \\cdot b_j\n",
    "    \\big)\n",
    "    .\n",
    "\\end{aligned}\n",
    "\\label{ujk-formula-simple}\n",
    "\\end{equation}\n",
    "$$"
   ]
  },
  {
   "cell_type": "markdown",
   "id": "b5cb08f1-e40b-4939-a902-69c21b07448a",
   "metadata": {},
   "source": [
    "## Evidence matrix $E$"
   ]
  },
  {
   "cell_type": "markdown",
   "id": "d04afb52-4d71-4f9f-8dfe-cb5be5861c49",
   "metadata": {},
   "source": [
    "One can notice that the part \n",
    "$$\n",
    "\\frac{\n",
    "1\n",
    "}{\n",
    "\\sum_{s=1}^{c} \n",
    "\\big( {d_{jk}^2} / {d_{js}^2} \\big)\n",
    "}\n",
    "=\n",
    "{\n",
    "\\bigg(\n",
    "    \\sum_{s=1}^{c}\n",
    "    \\frac{\n",
    "        d^2(x_j, v_k)\n",
    "    }{\n",
    "       d^2(x_j, v_s)\n",
    "    }\n",
    "\\bigg)\n",
    "}^{-1}\n",
    "$$\n",
    "\n",
    "that we call **data evidence** is common for all 3 distinc types of memberships in SSFCM.\n",
    "\n",
    "The **evidence** matrix $E = [e_{jk}]$ will be our main building block, where \n",
    "$$\n",
    "e_{jk} = {\n",
    "\\bigg(\n",
    "    \\sum_{s=1}^{c}\n",
    "    \\frac{\n",
    "        d^2(x_j, v_k)\n",
    "    }{\n",
    "       d^2(x_j, v_s)\n",
    "    }\n",
    "\\bigg)\n",
    "}^{-1}\n",
    "$$\n",
    "\n",
    "Evidence matrix $E$ will be built from the distances matrix $D = [d_{jk}]$."
   ]
  },
  {
   "cell_type": "markdown",
   "id": "96a2c9ad-73cb-4901-9368-4157048a48e5",
   "metadata": {},
   "source": [
    "### `Python` code"
   ]
  },
  {
   "cell_type": "markdown",
   "id": "64146b0f-cb91-424e-9798-9bcee566c55d",
   "metadata": {},
   "source": [
    "To compute distances between each point $x_j \\in R^3$ and each of $v_1, v_2$, we will use a `cdist` function from `scipy` [(docs)](https://docs.scipy.org/doc/scipy/reference/generated/scipy.spatial.distance.cdist.html)"
   ]
  },
  {
   "cell_type": "code",
   "execution_count": 35,
   "id": "e3d804e1-6278-4d1c-8569-0c20d7313726",
   "metadata": {},
   "outputs": [],
   "source": [
    "cdist = scipy.spatial.distance.cdist"
   ]
  },
  {
   "cell_type": "code",
   "execution_count": 36,
   "id": "9349187e-d203-4952-b345-8abbe2da8cfc",
   "metadata": {},
   "outputs": [],
   "source": [
    "D = cdist(X, V, metric='Euclidean')**2"
   ]
  },
  {
   "cell_type": "code",
   "execution_count": 37,
   "id": "283bac46-a393-4cc0-8929-186029c7689c",
   "metadata": {},
   "outputs": [
    {
     "data": {
      "text/plain": [
       "array([[19.75213031, 12.55593133],\n",
       "       [32.77869472, 38.63756415],\n",
       "       [29.55676429, 39.6387398 ],\n",
       "       [82.52554128, 70.64639669],\n",
       "       [15.94460273, 11.60122044],\n",
       "       [14.1513846 , 16.80759488],\n",
       "       [28.45890242, 18.17946634]])"
      ]
     },
     "execution_count": 37,
     "metadata": {},
     "output_type": "execute_result"
    }
   ],
   "source": [
    "D"
   ]
  },
  {
   "cell_type": "markdown",
   "id": "db537abc-2737-44bc-9f21-99ee8a401505",
   "metadata": {},
   "source": [
    "Each element $d_{y,z}$ from $D$ is a distance between $y-$th element from $X$ ($y-$th observation) and $z-$th element from $V$ ($z-$th cluster's prototype)"
   ]
  },
  {
   "cell_type": "markdown",
   "id": "0eba430c-ef65-4a0a-ba82-c8755e404508",
   "metadata": {},
   "source": [
    "It turns out the same operation can be carried out using pure `numpy`, namely `numpy.einsum` function, which implements the so-called [Einstein summation convention (link to Wiki)](https://en.wikipedia.org/wiki/Einstein_notation):"
   ]
  },
  {
   "cell_type": "code",
   "execution_count": 38,
   "id": "3080d566-85bf-40e7-ba05-0d8f4ece9f20",
   "metadata": {},
   "outputs": [],
   "source": [
    "def _dist(A, B):\n",
    "    \"\"\"Compute the euclidean distance two matrices\"\"\"\n",
    "    return np.sqrt(np.einsum(\"ijk->ij\", (A[:, None, :] - B) ** 2))"
   ]
  },
  {
   "cell_type": "code",
   "execution_count": 39,
   "id": "b224d727-576c-4ebf-a430-3bfaf336f217",
   "metadata": {},
   "outputs": [
    {
     "data": {
      "text/plain": [
       "array([[ 3.4642421 ,  9.24276663, 15.82553729],\n",
       "       [ 2.74040953, 10.27474641, 15.98930677]])"
      ]
     },
     "execution_count": 39,
     "metadata": {},
     "output_type": "execute_result"
    }
   ],
   "source": [
    "V"
   ]
  },
  {
   "cell_type": "code",
   "execution_count": 40,
   "id": "044bfb2d-70fb-46fc-ab93-509cb478641c",
   "metadata": {},
   "outputs": [
    {
     "data": {
      "text/plain": [
       "array([[ 0.72852489, 11.94667841, 13.59914048],\n",
       "       [ 8.79118537, 11.08317434, 14.81793144],\n",
       "       [ 2.38801479,  4.14141081, 17.36653303],\n",
       "       [ 4.2224803 , 17.04222896, 11.2299956 ],\n",
       "       [ 4.77397008, 12.90549072, 16.72757254],\n",
       "       [ 2.77734604,  7.72183846, 19.19693698],\n",
       "       [ 0.89662189, 12.70659482, 18.96689418]])"
      ]
     },
     "execution_count": 40,
     "metadata": {},
     "output_type": "execute_result"
    }
   ],
   "source": [
    "X"
   ]
  },
  {
   "cell_type": "code",
   "execution_count": 41,
   "id": "5e587fb2-baff-4049-ab58-fd5fbdf5eeab",
   "metadata": {},
   "outputs": [
    {
     "data": {
      "text/plain": [
       "array([[19.75213031, 12.55593133],\n",
       "       [32.77869472, 38.63756415],\n",
       "       [29.55676429, 39.6387398 ],\n",
       "       [82.52554128, 70.64639669],\n",
       "       [15.94460273, 11.60122044],\n",
       "       [14.1513846 , 16.80759488],\n",
       "       [28.45890242, 18.17946634]])"
      ]
     },
     "execution_count": 41,
     "metadata": {},
     "output_type": "execute_result"
    }
   ],
   "source": [
    "_dist(X, V)**2"
   ]
  },
  {
   "cell_type": "code",
   "execution_count": 42,
   "id": "d98a47cb-88f0-490b-afbd-78fc0268fc01",
   "metadata": {},
   "outputs": [
    {
     "data": {
      "text/plain": [
       "0"
      ]
     },
     "execution_count": 42,
     "metadata": {},
     "output_type": "execute_result"
    }
   ],
   "source": [
    "(np.round(_dist(X, V)**2, 4) != np.round(D, 4)).sum()"
   ]
  },
  {
   "cell_type": "markdown",
   "id": "8359b46d-d187-493f-b5ef-341e3ce4f645",
   "metadata": {},
   "source": [
    "---"
   ]
  },
  {
   "cell_type": "markdown",
   "id": "025b8db5-44cf-4bf2-a4ef-1ff4acd5b604",
   "metadata": {},
   "source": [
    "We now need to calculate matrix $E$ out of $D$."
   ]
  },
  {
   "cell_type": "code",
   "execution_count": 43,
   "id": "d6cea10f-107d-4226-8c2e-720bdc1fca4a",
   "metadata": {},
   "outputs": [
    {
     "data": {
      "text/plain": [
       "array([[19.75213031, 12.55593133],\n",
       "       [32.77869472, 38.63756415],\n",
       "       [29.55676429, 39.6387398 ],\n",
       "       [82.52554128, 70.64639669],\n",
       "       [15.94460273, 11.60122044],\n",
       "       [14.1513846 , 16.80759488],\n",
       "       [28.45890242, 18.17946634]])"
      ]
     },
     "execution_count": 43,
     "metadata": {},
     "output_type": "execute_result"
    }
   ],
   "source": [
    "D"
   ]
  },
  {
   "cell_type": "code",
   "execution_count": 44,
   "id": "c56885d8-5250-4bd0-8ff3-ffa1db79794f",
   "metadata": {},
   "outputs": [
    {
     "data": {
      "text/plain": [
       "(7, 2)"
      ]
     },
     "execution_count": 44,
     "metadata": {},
     "output_type": "execute_result"
    }
   ],
   "source": [
    "D.shape"
   ]
  },
  {
   "cell_type": "markdown",
   "id": "782d93a0-5904-465d-b268-74527f75e771",
   "metadata": {},
   "source": [
    "Firstly, we introduce a new artificial axis, to work with a 3-dimensional array. We can do it in two ways: by `D[:, np.newaxis, :]` or by `D.reshape(n_samples, 1, -1)`:"
   ]
  },
  {
   "cell_type": "code",
   "execution_count": 45,
   "id": "e31253f5-11ee-4440-b6cc-18d5cbe6e18f",
   "metadata": {},
   "outputs": [],
   "source": [
    "D_reshaped = D.reshape(n_samples, 1, -1)"
   ]
  },
  {
   "cell_type": "code",
   "execution_count": 46,
   "id": "d97468ea-2c21-4144-9c57-8356c96b77a5",
   "metadata": {},
   "outputs": [
    {
     "data": {
      "text/plain": [
       "(7, 1, 2)"
      ]
     },
     "execution_count": 46,
     "metadata": {},
     "output_type": "execute_result"
    }
   ],
   "source": [
    "D_reshaped.shape"
   ]
  },
  {
   "cell_type": "code",
   "execution_count": 47,
   "id": "36e85116-b5e8-41d3-89ea-4f6ed0f83ff5",
   "metadata": {},
   "outputs": [
    {
     "data": {
      "text/plain": [
       "array([[[19.75213031, 12.55593133]],\n",
       "\n",
       "       [[32.77869472, 38.63756415]],\n",
       "\n",
       "       [[29.55676429, 39.6387398 ]],\n",
       "\n",
       "       [[82.52554128, 70.64639669]],\n",
       "\n",
       "       [[15.94460273, 11.60122044]],\n",
       "\n",
       "       [[14.1513846 , 16.80759488]],\n",
       "\n",
       "       [[28.45890242, 18.17946634]]])"
      ]
     },
     "execution_count": 47,
     "metadata": {},
     "output_type": "execute_result"
    }
   ],
   "source": [
    "D_reshaped"
   ]
  },
  {
   "cell_type": "code",
   "execution_count": 48,
   "id": "43d7f036-ffd4-4586-9532-b01f77fddcf8",
   "metadata": {},
   "outputs": [
    {
     "data": {
      "text/plain": [
       "array([[0, 0]])"
      ]
     },
     "execution_count": 48,
     "metadata": {},
     "output_type": "execute_result"
    }
   ],
   "source": [
    "sum(D[:, np.newaxis, :] != D_reshaped)"
   ]
  },
  {
   "cell_type": "markdown",
   "id": "157e1030-4546-4855-981c-7f1734001d1e",
   "metadata": {},
   "source": [
    "We now repeat each individual entry 1 time over the last axis. We effectively create a duplicated row containing distances of a given observation to all cluster prototypes."
   ]
  },
  {
   "cell_type": "code",
   "execution_count": 49,
   "id": "8aea3f40-f914-4fe3-9691-59927a5cec8a",
   "metadata": {},
   "outputs": [],
   "source": [
    "D_repeated = D_reshaped.repeat(D.shape[-1], axis=1)"
   ]
  },
  {
   "cell_type": "code",
   "execution_count": 50,
   "id": "db0a7ba6-9c4a-4090-b853-b81a3099bf97",
   "metadata": {},
   "outputs": [
    {
     "data": {
      "text/plain": [
       "(7, 2, 2)"
      ]
     },
     "execution_count": 50,
     "metadata": {},
     "output_type": "execute_result"
    }
   ],
   "source": [
    "D_repeated.shape"
   ]
  },
  {
   "cell_type": "code",
   "execution_count": 51,
   "id": "ad7d7a1e-27c3-4792-8cc9-1d6efa9c54e3",
   "metadata": {},
   "outputs": [
    {
     "data": {
      "text/plain": [
       "array([[[19.75213031, 12.55593133],\n",
       "        [19.75213031, 12.55593133]],\n",
       "\n",
       "       [[32.77869472, 38.63756415],\n",
       "        [32.77869472, 38.63756415]],\n",
       "\n",
       "       [[29.55676429, 39.6387398 ],\n",
       "        [29.55676429, 39.6387398 ]],\n",
       "\n",
       "       [[82.52554128, 70.64639669],\n",
       "        [82.52554128, 70.64639669]],\n",
       "\n",
       "       [[15.94460273, 11.60122044],\n",
       "        [15.94460273, 11.60122044]],\n",
       "\n",
       "       [[14.1513846 , 16.80759488],\n",
       "        [14.1513846 , 16.80759488]],\n",
       "\n",
       "       [[28.45890242, 18.17946634],\n",
       "        [28.45890242, 18.17946634]]])"
      ]
     },
     "execution_count": 51,
     "metadata": {},
     "output_type": "execute_result"
    }
   ],
   "source": [
    "D_repeated"
   ]
  },
  {
   "cell_type": "markdown",
   "id": "4384ae55-760e-4d06-a9ba-e34e6b0b2d40",
   "metadata": {},
   "source": [
    "We introduce a new axis the same way to the original distances matrix $D$, but this time without repeating the entries:"
   ]
  },
  {
   "cell_type": "code",
   "execution_count": 52,
   "id": "0c2cd70c-46b0-4cb0-8c29-de7977e2daae",
   "metadata": {},
   "outputs": [],
   "source": [
    "D_newaxis = D[:, :, np.newaxis]"
   ]
  },
  {
   "cell_type": "code",
   "execution_count": 53,
   "id": "df348aab-ade9-467f-87fd-658fbb7668dc",
   "metadata": {},
   "outputs": [
    {
     "data": {
      "text/plain": [
       "((7, 2, 1), (7, 2, 2))"
      ]
     },
     "execution_count": 53,
     "metadata": {},
     "output_type": "execute_result"
    }
   ],
   "source": [
    "D_newaxis.shape, D_repeated.shape"
   ]
  },
  {
   "cell_type": "code",
   "execution_count": 54,
   "id": "ed457fcc-903e-4ad3-9222-eaf618d52687",
   "metadata": {},
   "outputs": [
    {
     "data": {
      "text/plain": [
       "array([[[19.75213031],\n",
       "        [12.55593133]],\n",
       "\n",
       "       [[32.77869472],\n",
       "        [38.63756415]],\n",
       "\n",
       "       [[29.55676429],\n",
       "        [39.6387398 ]],\n",
       "\n",
       "       [[82.52554128],\n",
       "        [70.64639669]],\n",
       "\n",
       "       [[15.94460273],\n",
       "        [11.60122044]],\n",
       "\n",
       "       [[14.1513846 ],\n",
       "        [16.80759488]],\n",
       "\n",
       "       [[28.45890242],\n",
       "        [18.17946634]]])"
      ]
     },
     "execution_count": 54,
     "metadata": {},
     "output_type": "execute_result"
    }
   ],
   "source": [
    "D_newaxis"
   ]
  },
  {
   "cell_type": "markdown",
   "id": "32e45b5f-89c6-40b8-8564-8db329e1732c",
   "metadata": {},
   "source": [
    "We now divide `D_newaxis` by `D_repeated`. By the mechanism of broadcasting, the final entry in our 3-dimensional matrix will be a row containing\n",
    "\n",
    "$$\n",
    "\\frac{d^2(x_j, v_k)}{d^2(x_j, v_1)},\n",
    "\\frac{d^2(x_j, v_k)}{d^2(x_j, v_2)},\n",
    "\\ldots,\n",
    "\\frac{d^2(x_j, v_k)}{d^2(x_j, v_c)}\n",
    "$$\n",
    "\n",
    "for each of the clusters."
   ]
  },
  {
   "cell_type": "code",
   "execution_count": 55,
   "id": "9a2c1b56-56c9-4603-932c-b6359f1909e3",
   "metadata": {},
   "outputs": [
    {
     "data": {
      "text/plain": [
       "array([[[1.        , 1.57313144],\n",
       "        [0.63567479, 1.        ]],\n",
       "\n",
       "       [[1.        , 0.84836339],\n",
       "        [1.17874017, 1.        ]],\n",
       "\n",
       "       [[1.        , 0.74565348],\n",
       "        [1.34110552, 1.        ]],\n",
       "\n",
       "       [[1.        , 1.16814933],\n",
       "        [0.85605493, 1.        ]],\n",
       "\n",
       "       [[1.        , 1.37439012],\n",
       "        [0.72759545, 1.        ]],\n",
       "\n",
       "       [[1.        , 0.84196369],\n",
       "        [1.18769967, 1.        ]],\n",
       "\n",
       "       [[1.        , 1.56544213],\n",
       "        [0.63879717, 1.        ]]])"
      ]
     },
     "execution_count": 55,
     "metadata": {},
     "output_type": "execute_result"
    }
   ],
   "source": [
    "D_newaxis / D_reshaped"
   ]
  },
  {
   "cell_type": "markdown",
   "id": "e71424aa-d6f7-4cf5-90a5-d4b15540bd44",
   "metadata": {},
   "source": [
    "Indeed, lets examine a first sub-matrix:"
   ]
  },
  {
   "cell_type": "code",
   "execution_count": 56,
   "id": "61140d81-367b-4fc9-84c1-5d96ecf6bd0a",
   "metadata": {},
   "outputs": [
    {
     "data": {
      "text/plain": [
       "array([[1.        , 1.57313144],\n",
       "       [0.63567479, 1.        ]])"
      ]
     },
     "execution_count": 56,
     "metadata": {},
     "output_type": "execute_result"
    }
   ],
   "source": [
    "(D_newaxis / D_reshaped)[0, :, :]"
   ]
  },
  {
   "cell_type": "markdown",
   "id": "608b786e-5cf3-4ff3-9c09-5cbaa1fb1a01",
   "metadata": {},
   "source": [
    "Recall entries from $D$"
   ]
  },
  {
   "cell_type": "code",
   "execution_count": 57,
   "id": "82ba93bd-0845-4a81-be70-f74960ccabdc",
   "metadata": {},
   "outputs": [
    {
     "data": {
      "text/plain": [
       "array([19.75213031, 12.55593133])"
      ]
     },
     "execution_count": 57,
     "metadata": {},
     "output_type": "execute_result"
    }
   ],
   "source": [
    "D[0, :]"
   ]
  },
  {
   "cell_type": "markdown",
   "id": "9e69fb11-c296-4409-981a-ec14d0ea3ad3",
   "metadata": {},
   "source": [
    "`(D_newaxis / D_reshaped)[0, :, :]`  is a matrix"
   ]
  },
  {
   "cell_type": "markdown",
   "id": "3a66d14f-7fb9-4cf8-9178-223ab30d58c7",
   "metadata": {},
   "source": [
    "$$\n",
    "\\begin{bmatrix}\n",
    "\\frac{d^2(x_1, v_1)}{d^2(x_1, v_1)} &\n",
    "\\frac{d^2(x_1, v_1)}{d^2(x_1, v_2)} \\\\\n",
    "\\frac{d^2(x_1, v_2)}{d^2(x_1, v_1)} &\n",
    "\\frac{d^2(x_1, v_2)}{d^2(x_1, v_2)}\n",
    "\\end{bmatrix}\n",
    "$$"
   ]
  },
  {
   "cell_type": "markdown",
   "id": "4e4fcd51-eae7-45a9-95ad-9462b07a329e",
   "metadata": {},
   "source": [
    "We can now sum over the 2-nd axis"
   ]
  },
  {
   "cell_type": "code",
   "execution_count": 58,
   "id": "dbce3a58-dd40-47ab-852f-e2707f027e61",
   "metadata": {},
   "outputs": [],
   "source": [
    "E_reciprocal = (D_newaxis / D_reshaped).sum(axis=2)"
   ]
  },
  {
   "cell_type": "code",
   "execution_count": 59,
   "id": "7347ffaf-004b-42e0-91d8-2067971e30a3",
   "metadata": {},
   "outputs": [
    {
     "data": {
      "text/plain": [
       "array([[2.57313144, 1.63567479],\n",
       "       [1.84836339, 2.17874017],\n",
       "       [1.74565348, 2.34110552],\n",
       "       [2.16814933, 1.85605493],\n",
       "       [2.37439012, 1.72759545],\n",
       "       [1.84196369, 2.18769967],\n",
       "       [2.56544213, 1.63879717]])"
      ]
     },
     "execution_count": 59,
     "metadata": {},
     "output_type": "execute_result"
    }
   ],
   "source": [
    "E_reciprocal"
   ]
  },
  {
   "cell_type": "markdown",
   "id": "38a608a9-a33f-4f1c-bc79-0e7cec54409b",
   "metadata": {},
   "source": [
    "Each $j-$th row of `E_reciprocal` is a $2-$tuple\n",
    "\n",
    "$$\n",
    "\\bigg( \\sum\\limits_{s=1}^2 \\frac{d^2(x_j, v_1)}{d^2(x_j, v_s)}, \\sum\\limits_{s=1}^2 \\frac{d^2(x_j, v_2)}{d^2(x_j, v_s)} \\bigg)\n",
    "$$"
   ]
  },
  {
   "cell_type": "markdown",
   "id": "3233537b-993d-4180-acff-4029a3734029",
   "metadata": {},
   "source": [
    "Recall that the data evidence is a reciprocal of     $\\sum_{s=1}^{c}\n",
    "    \\frac{\n",
    "        d^2(x_j, v_k)\n",
    "    }{\n",
    "       d^2(x_j, v_s)\n",
    "    }$, so"
   ]
  },
  {
   "cell_type": "code",
   "execution_count": 60,
   "id": "d68ef0ce-da72-4176-90e9-f63dfe23d4be",
   "metadata": {},
   "outputs": [],
   "source": [
    "E = 1 / E_reciprocal"
   ]
  },
  {
   "cell_type": "code",
   "execution_count": 61,
   "id": "1ec4c642-b54f-4a88-a8f0-013bfe73de32",
   "metadata": {},
   "outputs": [
    {
     "data": {
      "text/plain": [
       "array([[0.38863153, 0.61136847],\n",
       "       [0.54101916, 0.45898084],\n",
       "       [0.57285138, 0.42714862],\n",
       "       [0.46122284, 0.53877716],\n",
       "       [0.42116078, 0.57883922],\n",
       "       [0.54289887, 0.45710113],\n",
       "       [0.38979636, 0.61020364]])"
      ]
     },
     "execution_count": 61,
     "metadata": {},
     "output_type": "execute_result"
    }
   ],
   "source": [
    "E"
   ]
  },
  {
   "cell_type": "markdown",
   "id": "e0bb31d0-483e-4955-b172-bb406f263824",
   "metadata": {},
   "source": [
    "## Multiplier matrix $M$"
   ]
  },
  {
   "cell_type": "markdown",
   "id": "07f12901-92df-486d-8905-11dddfa0eb58",
   "metadata": {},
   "source": [
    "Further on, the evidence value $e_{jk}$ is modified for both $u_{i,k \\neq s(i)}$ and $u_{i, s(i)}$ by a factor of $\\frac{1}{1+\\alpha}$.\n",
    "\n",
    "In a matrix form, we express it by matrix $M$ that is built out of $F$:"
   ]
  },
  {
   "cell_type": "markdown",
   "id": "885e0d49-1045-4625-b10d-2df185ce9a21",
   "metadata": {},
   "source": [
    "$$\n",
    "F=\n",
    "\\begin{bmatrix}\n",
    "1 & 0 \\\\\n",
    "1 & 0 \\\\\n",
    "0 & 1 \\\\\n",
    "0 & 0 \\\\ 0 & 0 \\\\ 0 & 0 \\\\ 0 & 0 \\\\\n",
    "\\end{bmatrix}\n",
    "$$"
   ]
  },
  {
   "cell_type": "markdown",
   "id": "df3953a1-0c4a-4c06-8c24-a6b5115bcdab",
   "metadata": {},
   "source": [
    "$$\n",
    "M=\n",
    "\\begin{bmatrix}\n",
    "\\frac{1}{1+\\alpha} & \\frac{1}{1+\\alpha} \\\\\n",
    "\\frac{1}{1+\\alpha} & \\frac{1}{1+\\alpha} \\\\\n",
    "\\frac{1}{1+\\alpha} & \\frac{1}{1+\\alpha} \\\\\n",
    "1 & 1 \\\\ 1 & 1 \\\\ 1 & 1 \\\\ 1 & 1 \\\\\n",
    "\\end{bmatrix}\n",
    "$$"
   ]
  },
  {
   "cell_type": "markdown",
   "id": "8dc3f778-cb69-40ef-9e6b-f37e751a0954",
   "metadata": {},
   "source": [
    "A first step to build a matrix formula for $U$ is to multiply element-wise $M$ and $E$, arriving at\n",
    "\n",
    "$$\n",
    "M \\cdot E = ME = [me_{jk}] \\text{ , where } me_{jk} = \\frac{1+\\alpha \\cdot (1-b_j \\sum_{s=1}^c f_{js})}{1+\\alpha} \n",
    "\\cdot\n",
    "\\bigg(\n",
    "\\sum_{s=1}^{c}\n",
    "    \\frac{\n",
    "        d^2(x_j, v_k)\n",
    "    }{\n",
    "       d^2(x_j, v_s)\n",
    "    }\n",
    "\\bigg)^{-1}\n",
    "$$\n",
    "\n",
    "where $A \\cdot B$ is an element-wise operation of multiplication of elements of matrices $A$ and $B$."
   ]
  },
  {
   "cell_type": "markdown",
   "id": "0ef997d9-8c83-4a4c-9582-619ee0349b37",
   "metadata": {},
   "source": [
    "### `Python` code"
   ]
  },
  {
   "cell_type": "markdown",
   "id": "2999f9ef-1945-4fc8-bbae-7f231dd45dd0",
   "metadata": {},
   "source": [
    "Recall we already have information about indices of supervised observations in matrix $F$"
   ]
  },
  {
   "cell_type": "code",
   "execution_count": 62,
   "id": "39a58048-4b4d-415f-b941-1b3d3a13a62b",
   "metadata": {},
   "outputs": [
    {
     "data": {
      "text/plain": [
       "array([0, 1, 2])"
      ]
     },
     "execution_count": 62,
     "metadata": {},
     "output_type": "execute_result"
    }
   ],
   "source": [
    "i_indices"
   ]
  },
  {
   "cell_type": "code",
   "execution_count": 63,
   "id": "fec06d8c-606f-4eb1-85c5-3ea7c04389a8",
   "metadata": {},
   "outputs": [
    {
     "data": {
      "text/plain": [
       "array([[1, 0],\n",
       "       [1, 0],\n",
       "       [0, 1],\n",
       "       [0, 0],\n",
       "       [0, 0],\n",
       "       [0, 0],\n",
       "       [0, 0]])"
      ]
     },
     "execution_count": 63,
     "metadata": {},
     "output_type": "execute_result"
    }
   ],
   "source": [
    "F"
   ]
  },
  {
   "cell_type": "code",
   "execution_count": 64,
   "id": "82238d7e-67a9-40e0-8a57-2a736a2609e8",
   "metadata": {},
   "outputs": [],
   "source": [
    "M = np.ones(F.shape)"
   ]
  },
  {
   "cell_type": "code",
   "execution_count": 65,
   "id": "8d2ff0be-7018-4c68-8fe3-43f5bb1fc7d7",
   "metadata": {},
   "outputs": [],
   "source": [
    "M[i_indices, :] = 1 / (1 + alpha)"
   ]
  },
  {
   "cell_type": "code",
   "execution_count": 66,
   "id": "db34b533-74b0-4f0a-8277-1d8335886a19",
   "metadata": {},
   "outputs": [
    {
     "data": {
      "text/plain": [
       "array([[0.55555556, 0.55555556],\n",
       "       [0.55555556, 0.55555556],\n",
       "       [0.55555556, 0.55555556],\n",
       "       [1.        , 1.        ],\n",
       "       [1.        , 1.        ],\n",
       "       [1.        , 1.        ],\n",
       "       [1.        , 1.        ]])"
      ]
     },
     "execution_count": 66,
     "metadata": {},
     "output_type": "execute_result"
    }
   ],
   "source": [
    "M"
   ]
  },
  {
   "cell_type": "markdown",
   "id": "8e0ac077-c8b3-469d-a75f-b3abb723494c",
   "metadata": {},
   "source": [
    "## Absolute Lower Bound matrix $ALB$"
   ]
  },
  {
   "cell_type": "markdown",
   "id": "1d89a465-be51-4f71-a2c9-b52562d557a1",
   "metadata": {},
   "source": [
    "Finally, the true power of the scaling factor $\\alpha$ in SSFCM is the Absolute Lower Bound operation.\n",
    "For each $u_{i,s(i)}$ a value $\\frac{\\alpha}{1+\\alpha}$ is added. In a matrix form, it can be expressed as"
   ]
  },
  {
   "cell_type": "markdown",
   "id": "d38f9d3d-d3f0-4558-bbcb-f1684864f33a",
   "metadata": {},
   "source": [
    "$$\n",
    "F=\n",
    "\\begin{bmatrix}\n",
    "1 & 0 \\\\\n",
    "1 & 0 \\\\\n",
    "0 & 1 \\\\\n",
    "0 & 0 \\\\ 0 & 0 \\\\ 0 & 0 \\\\ 0 & 0 \\\\\n",
    "\\end{bmatrix}\n",
    "$$"
   ]
  },
  {
   "cell_type": "markdown",
   "id": "228e2b95-1f96-422e-8df2-0aec1e0180e7",
   "metadata": {},
   "source": [
    "$$\n",
    "ALB=\n",
    "\\begin{bmatrix}\n",
    "\\frac{\\alpha}{1+\\alpha} & 0 \\\\\n",
    "\\frac{\\alpha}{1+\\alpha} & 0 \\\\\n",
    "0 & \\frac{\\alpha}{1+\\alpha} \\\\\n",
    "0 & 0 \\\\ 0 & 0 \\\\ 0 & 0 \\\\ 0 & 0 \\\\\n",
    "\\end{bmatrix}\n",
    "$$"
   ]
  },
  {
   "cell_type": "markdown",
   "id": "9bea5994-a944-481d-9ce3-66e42c6bd2f8",
   "metadata": {},
   "source": [
    "### `Python` code"
   ]
  },
  {
   "cell_type": "code",
   "execution_count": 67,
   "id": "db965af0-6e4c-4590-9a33-a8fa053a010e",
   "metadata": {},
   "outputs": [],
   "source": [
    "ALB = F * ( alpha / (1 + alpha) )"
   ]
  },
  {
   "cell_type": "markdown",
   "id": "062aca81-68eb-41e8-a362-8841aa38cdcb",
   "metadata": {},
   "source": [
    "## Final formula for $U$"
   ]
  },
  {
   "cell_type": "markdown",
   "id": "5341904a-20ff-4ea2-bca6-3986239acbbf",
   "metadata": {},
   "source": [
    "$U = ME + ALB$"
   ]
  },
  {
   "cell_type": "code",
   "execution_count": 68,
   "id": "b3cf5d73-2221-472d-b719-9460cda9f952",
   "metadata": {},
   "outputs": [],
   "source": [
    "U = np.multiply(M, E) + ALB"
   ]
  },
  {
   "cell_type": "code",
   "execution_count": 69,
   "id": "ef637689-d164-4401-b28d-cdce62f59ead",
   "metadata": {},
   "outputs": [
    {
     "data": {
      "text/plain": [
       "array([[0.66035085, 0.33964915],\n",
       "       [0.74501064, 0.25498936],\n",
       "       [0.31825076, 0.68174924],\n",
       "       [0.46122284, 0.53877716],\n",
       "       [0.42116078, 0.57883922],\n",
       "       [0.54289887, 0.45710113],\n",
       "       [0.38979636, 0.61020364]])"
      ]
     },
     "execution_count": 69,
     "metadata": {},
     "output_type": "execute_result"
    }
   ],
   "source": [
    "U"
   ]
  },
  {
   "cell_type": "markdown",
   "id": "13784484-e4e8-4e41-bd64-4603631ab61d",
   "metadata": {},
   "source": [
    "Let's compare memberships $u_{i,s(i)}$ stemming from (a) $U^\\text{SSFCM}$ matrix in SSFCM, and (b) $U^\\text{FCM}$ matrix in regular FCM."
   ]
  },
  {
   "cell_type": "markdown",
   "id": "69c47c5d-8f64-44cf-89b8-cd690417ec48",
   "metadata": {},
   "source": [
    "(a) $U^\\text{SSFCM}$ = `U`,<br>\n",
    "(b) $U^\\text{FCM}$ = `E`"
   ]
  },
  {
   "cell_type": "code",
   "execution_count": 70,
   "id": "76498ea0-c1bf-4e7c-a4d4-14f794ede84c",
   "metadata": {},
   "outputs": [
    {
     "data": {
      "text/plain": [
       "array([[0.66035085, 0.33964915],\n",
       "       [0.74501064, 0.25498936],\n",
       "       [0.31825076, 0.68174924],\n",
       "       [0.46122284, 0.53877716],\n",
       "       [0.42116078, 0.57883922],\n",
       "       [0.54289887, 0.45710113],\n",
       "       [0.38979636, 0.61020364]])"
      ]
     },
     "execution_count": 70,
     "metadata": {},
     "output_type": "execute_result"
    }
   ],
   "source": [
    "U"
   ]
  },
  {
   "cell_type": "code",
   "execution_count": 71,
   "id": "169414dc-ffec-492f-85c7-56fa6ffa1aef",
   "metadata": {},
   "outputs": [
    {
     "data": {
      "text/plain": [
       "array([[1, 0],\n",
       "       [1, 0],\n",
       "       [0, 1],\n",
       "       [0, 0],\n",
       "       [0, 0],\n",
       "       [0, 0],\n",
       "       [0, 0]])"
      ]
     },
     "execution_count": 71,
     "metadata": {},
     "output_type": "execute_result"
    }
   ],
   "source": [
    "F"
   ]
  },
  {
   "cell_type": "markdown",
   "id": "c5c15a7d-22b0-4231-8edf-63163a5fd7bc",
   "metadata": {},
   "source": [
    "supervised memberships in U"
   ]
  },
  {
   "cell_type": "code",
   "execution_count": 72,
   "id": "a52f9d1a-eb74-4ce8-ac04-642c876f5592",
   "metadata": {},
   "outputs": [
    {
     "data": {
      "text/plain": [
       "array([0.66035085, 0.74501064, 0.68174924])"
      ]
     },
     "execution_count": 72,
     "metadata": {},
     "output_type": "execute_result"
    }
   ],
   "source": [
    "U[F.nonzero()]"
   ]
  },
  {
   "cell_type": "markdown",
   "id": "9f04c30a-8185-4c0f-9d86-eda36fc13754",
   "metadata": {},
   "source": [
    "supervised memberships in E"
   ]
  },
  {
   "cell_type": "code",
   "execution_count": 73,
   "id": "2c92a603-abff-435f-a132-16689bf7aaf6",
   "metadata": {},
   "outputs": [
    {
     "data": {
      "text/plain": [
       "array([0.38863153, 0.54101916, 0.42714862])"
      ]
     },
     "execution_count": 73,
     "metadata": {},
     "output_type": "execute_result"
    }
   ],
   "source": [
    "E[F.nonzero()]"
   ]
  },
  {
   "cell_type": "markdown",
   "id": "98731580-dca6-48a2-a806-3d6140df2982",
   "metadata": {},
   "source": [
    "*This is an example of indexing specific elements from 2-d arrays taken from [numpy docs](https://numpy.org/devdocs/user/basics.indexing.html)"
   ]
  },
  {
   "cell_type": "markdown",
   "id": "0a3093b6-ff5a-43bc-ba69-895f5e34d6bf",
   "metadata": {},
   "source": [
    "```python\n",
    "y = np.arange(35).reshape(5, 7)\n",
    "\n",
    "y\n",
    "array([[ 0,  1,  2,  3,  4,  5,  6],\n",
    "       [ 7,  8,  9, 10, 11, 12, 13],\n",
    "       [14, 15, 16, 17, 18, 19, 20],\n",
    "       [21, 22, 23, 24, 25, 26, 27],\n",
    "       [28, 29, 30, 31, 32, 33, 34]])\n",
    "\n",
    "y[np.array([0, 2, 4]), np.array([0, 1, 2])]\n",
    "array([ 0, 15, 30])\n",
    "```"
   ]
  },
  {
   "cell_type": "markdown",
   "id": "fc9ccc1a-0780-4b6c-b7c8-ced0f103a451",
   "metadata": {},
   "source": [
    "Note that `matrix.nonzero()` provides a 2-tuple of such arrays required to select elements!"
   ]
  },
  {
   "cell_type": "markdown",
   "id": "37aa6b83-deed-49f2-a070-de13d556d813",
   "metadata": {},
   "source": [
    "### End of step $l=1$: checking convergence"
   ]
  },
  {
   "cell_type": "code",
   "execution_count": 74,
   "id": "dae1cdc6-b13d-4b75-84be-308b93a5cb9f",
   "metadata": {},
   "outputs": [
    {
     "data": {
      "text/plain": [
       "array([[0.66035085, 0.33964915],\n",
       "       [0.74501064, 0.25498936],\n",
       "       [0.31825076, 0.68174924],\n",
       "       [0.46122284, 0.53877716],\n",
       "       [0.42116078, 0.57883922],\n",
       "       [0.54289887, 0.45710113],\n",
       "       [0.38979636, 0.61020364]])"
      ]
     },
     "execution_count": 74,
     "metadata": {},
     "output_type": "execute_result"
    }
   ],
   "source": [
    "U"
   ]
  },
  {
   "cell_type": "code",
   "execution_count": 75,
   "id": "67ad2d11-14aa-4d4c-be76-40f0ba3f18a4",
   "metadata": {},
   "outputs": [
    {
     "data": {
      "text/plain": [
       "array([[0.3197939 , 0.6802061 ],\n",
       "       [0.63584491, 0.36415509],\n",
       "       [0.80844318, 0.19155682],\n",
       "       [0.58547838, 0.41452162],\n",
       "       [0.41186536, 0.58813464],\n",
       "       [0.392291  , 0.607709  ],\n",
       "       [0.45717935, 0.54282065]])"
      ]
     },
     "execution_count": 75,
     "metadata": {},
     "output_type": "execute_result"
    }
   ],
   "source": [
    "U_dummy"
   ]
  },
  {
   "cell_type": "code",
   "execution_count": 76,
   "id": "144597e0-93ba-404d-b060-e0307bdecf09",
   "metadata": {},
   "outputs": [],
   "source": [
    "error = 1e-4"
   ]
  },
  {
   "cell_type": "code",
   "execution_count": 77,
   "id": "4ae50cac-d422-4721-a52d-1e164cc3a03b",
   "metadata": {},
   "outputs": [
    {
     "name": "stdout",
     "output_type": "stream",
     "text": [
      "Need to continue. Increase $l$ by 1\n"
     ]
    }
   ],
   "source": [
    "if np.linalg.norm(U - U_dummy) < error:\n",
    "    print(\"Stop! Convergence reached.\")\n",
    "else:\n",
    "    print(\"Need to continue. Increase $l$ by 1\")"
   ]
  },
  {
   "cell_type": "code",
   "execution_count": null,
   "id": "1ff23254-e5d7-4a66-9824-775d9fbbbe8b",
   "metadata": {},
   "outputs": [],
   "source": []
  },
  {
   "cell_type": "code",
   "execution_count": null,
   "id": "69fe6990-e1a7-4fc2-9ddd-65f8770adef5",
   "metadata": {},
   "outputs": [],
   "source": []
  }
 ],
 "metadata": {
  "kernelspec": {
   "display_name": "Python 3 (ipykernel)",
   "language": "python",
   "name": "python3"
  },
  "language_info": {
   "codemirror_mode": {
    "name": "ipython",
    "version": 3
   },
   "file_extension": ".py",
   "mimetype": "text/x-python",
   "name": "python",
   "nbconvert_exporter": "python",
   "pygments_lexer": "ipython3",
   "version": "3.8.10"
  },
  "vscode": {
   "interpreter": {
    "hash": "af7defa9a788ce9006da26f17be1710c207c3016497066316b88f1bb9cf444e7"
   }
  }
 },
 "nbformat": 4,
 "nbformat_minor": 5
}
