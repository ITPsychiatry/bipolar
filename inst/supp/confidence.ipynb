{
 "cells": [
  {
   "cell_type": "code",
   "execution_count": 62,
   "id": "7eaf7355-6115-4fd6-9a5c-03827f5e9f34",
   "metadata": {},
   "outputs": [],
   "source": [
    "import numpy as np\n",
    "import pandas as pd"
   ]
  },
  {
   "cell_type": "code",
   "execution_count": 63,
   "id": "106cf3f1-3798-432b-bb15-5981e1ebe51e",
   "metadata": {},
   "outputs": [],
   "source": [
    "df = pd.DataFrame(data=[f\"2022-10-{x}\" for x in (\"03 10:30\", \"03 12:40\", \"04 15:00\", \"06 18:00\", \"10 11:33\", \"10 18:34\")], columns=[\"date\"])\n",
    "df[\"X1\"] = np.random.normal(6, 1, size=6)\n",
    "df[\"X2\"] = np.random.normal(50, 10, size=6)\n",
    "\n",
    "visits = pd.DataFrame(data=[[\"2022-10-06\", \"depression\"]], columns=[\"date\", \"state\"])"
   ]
  },
  {
   "cell_type": "markdown",
   "id": "dcddc4ec-0015-4275-9344-ab831d78862a",
   "metadata": {},
   "source": [
    "Our unsupervised sensors data"
   ]
  },
  {
   "cell_type": "code",
   "execution_count": 64,
   "id": "29de1708-b759-483c-88e7-c716b7ff1fa8",
   "metadata": {},
   "outputs": [
    {
     "data": {
      "text/html": [
       "<div>\n",
       "<style scoped>\n",
       "    .dataframe tbody tr th:only-of-type {\n",
       "        vertical-align: middle;\n",
       "    }\n",
       "\n",
       "    .dataframe tbody tr th {\n",
       "        vertical-align: top;\n",
       "    }\n",
       "\n",
       "    .dataframe thead th {\n",
       "        text-align: right;\n",
       "    }\n",
       "</style>\n",
       "<table border=\"1\" class=\"dataframe\">\n",
       "  <thead>\n",
       "    <tr style=\"text-align: right;\">\n",
       "      <th></th>\n",
       "      <th>date</th>\n",
       "      <th>X1</th>\n",
       "      <th>X2</th>\n",
       "    </tr>\n",
       "  </thead>\n",
       "  <tbody>\n",
       "    <tr>\n",
       "      <th>0</th>\n",
       "      <td>2022-10-03 10:30</td>\n",
       "      <td>5.751966</td>\n",
       "      <td>44.846856</td>\n",
       "    </tr>\n",
       "    <tr>\n",
       "      <th>1</th>\n",
       "      <td>2022-10-03 12:40</td>\n",
       "      <td>6.989865</td>\n",
       "      <td>63.691903</td>\n",
       "    </tr>\n",
       "    <tr>\n",
       "      <th>2</th>\n",
       "      <td>2022-10-04 15:00</td>\n",
       "      <td>4.640900</td>\n",
       "      <td>37.858959</td>\n",
       "    </tr>\n",
       "    <tr>\n",
       "      <th>3</th>\n",
       "      <td>2022-10-06 18:00</td>\n",
       "      <td>6.300580</td>\n",
       "      <td>53.067628</td>\n",
       "    </tr>\n",
       "    <tr>\n",
       "      <th>4</th>\n",
       "      <td>2022-10-10 11:33</td>\n",
       "      <td>4.854741</td>\n",
       "      <td>58.228480</td>\n",
       "    </tr>\n",
       "    <tr>\n",
       "      <th>5</th>\n",
       "      <td>2022-10-10 18:34</td>\n",
       "      <td>6.768292</td>\n",
       "      <td>57.930207</td>\n",
       "    </tr>\n",
       "  </tbody>\n",
       "</table>\n",
       "</div>"
      ],
      "text/plain": [
       "               date        X1         X2\n",
       "0  2022-10-03 10:30  5.751966  44.846856\n",
       "1  2022-10-03 12:40  6.989865  63.691903\n",
       "2  2022-10-04 15:00  4.640900  37.858959\n",
       "3  2022-10-06 18:00  6.300580  53.067628\n",
       "4  2022-10-10 11:33  4.854741  58.228480\n",
       "5  2022-10-10 18:34  6.768292  57.930207"
      ]
     },
     "execution_count": 64,
     "metadata": {},
     "output_type": "execute_result"
    }
   ],
   "source": [
    "df"
   ]
  },
  {
   "cell_type": "markdown",
   "id": "9625233a-c8a9-42d2-b48e-9f0227bc406e",
   "metadata": {},
   "source": [
    "Label information from visits"
   ]
  },
  {
   "cell_type": "code",
   "execution_count": 65,
   "id": "55ba5dc4-8476-48b5-a1fc-f94a966971e7",
   "metadata": {},
   "outputs": [
    {
     "data": {
      "text/html": [
       "<div>\n",
       "<style scoped>\n",
       "    .dataframe tbody tr th:only-of-type {\n",
       "        vertical-align: middle;\n",
       "    }\n",
       "\n",
       "    .dataframe tbody tr th {\n",
       "        vertical-align: top;\n",
       "    }\n",
       "\n",
       "    .dataframe thead th {\n",
       "        text-align: right;\n",
       "    }\n",
       "</style>\n",
       "<table border=\"1\" class=\"dataframe\">\n",
       "  <thead>\n",
       "    <tr style=\"text-align: right;\">\n",
       "      <th></th>\n",
       "      <th>date</th>\n",
       "      <th>state</th>\n",
       "    </tr>\n",
       "  </thead>\n",
       "  <tbody>\n",
       "    <tr>\n",
       "      <th>0</th>\n",
       "      <td>2022-10-06</td>\n",
       "      <td>depression</td>\n",
       "    </tr>\n",
       "  </tbody>\n",
       "</table>\n",
       "</div>"
      ],
      "text/plain": [
       "         date       state\n",
       "0  2022-10-06  depression"
      ]
     },
     "execution_count": 65,
     "metadata": {},
     "output_type": "execute_result"
    }
   ],
   "source": [
    "visits"
   ]
  },
  {
   "cell_type": "markdown",
   "id": "9e523f25-5721-462d-a22b-184cecee06dd",
   "metadata": {},
   "source": [
    "Two approaches to extrapolating info from `visits` onto `df`"
   ]
  },
  {
   "cell_type": "markdown",
   "id": "20616d33-389a-40af-bae6-ca177e4e113c",
   "metadata": {},
   "source": [
    "<img src='images/conf1.png' width='400' />"
   ]
  },
  {
   "cell_type": "code",
   "execution_count": 66,
   "id": "96a976bf-78e6-4bf8-84f8-4f234c160711",
   "metadata": {},
   "outputs": [],
   "source": [
    "df[\"conf1\"] = [1. for _ in range(6)]"
   ]
  },
  {
   "cell_type": "code",
   "execution_count": 67,
   "id": "71ed0151-9626-406b-b475-4e63115f3765",
   "metadata": {},
   "outputs": [
    {
     "data": {
      "text/html": [
       "<div>\n",
       "<style scoped>\n",
       "    .dataframe tbody tr th:only-of-type {\n",
       "        vertical-align: middle;\n",
       "    }\n",
       "\n",
       "    .dataframe tbody tr th {\n",
       "        vertical-align: top;\n",
       "    }\n",
       "\n",
       "    .dataframe thead th {\n",
       "        text-align: right;\n",
       "    }\n",
       "</style>\n",
       "<table border=\"1\" class=\"dataframe\">\n",
       "  <thead>\n",
       "    <tr style=\"text-align: right;\">\n",
       "      <th></th>\n",
       "      <th>date</th>\n",
       "      <th>X1</th>\n",
       "      <th>X2</th>\n",
       "      <th>conf1</th>\n",
       "    </tr>\n",
       "  </thead>\n",
       "  <tbody>\n",
       "    <tr>\n",
       "      <th>0</th>\n",
       "      <td>2022-10-03 10:30</td>\n",
       "      <td>5.751966</td>\n",
       "      <td>44.846856</td>\n",
       "      <td>1.0</td>\n",
       "    </tr>\n",
       "    <tr>\n",
       "      <th>1</th>\n",
       "      <td>2022-10-03 12:40</td>\n",
       "      <td>6.989865</td>\n",
       "      <td>63.691903</td>\n",
       "      <td>1.0</td>\n",
       "    </tr>\n",
       "    <tr>\n",
       "      <th>2</th>\n",
       "      <td>2022-10-04 15:00</td>\n",
       "      <td>4.640900</td>\n",
       "      <td>37.858959</td>\n",
       "      <td>1.0</td>\n",
       "    </tr>\n",
       "    <tr>\n",
       "      <th>3</th>\n",
       "      <td>2022-10-06 18:00</td>\n",
       "      <td>6.300580</td>\n",
       "      <td>53.067628</td>\n",
       "      <td>1.0</td>\n",
       "    </tr>\n",
       "    <tr>\n",
       "      <th>4</th>\n",
       "      <td>2022-10-10 11:33</td>\n",
       "      <td>4.854741</td>\n",
       "      <td>58.228480</td>\n",
       "      <td>1.0</td>\n",
       "    </tr>\n",
       "    <tr>\n",
       "      <th>5</th>\n",
       "      <td>2022-10-10 18:34</td>\n",
       "      <td>6.768292</td>\n",
       "      <td>57.930207</td>\n",
       "      <td>1.0</td>\n",
       "    </tr>\n",
       "  </tbody>\n",
       "</table>\n",
       "</div>"
      ],
      "text/plain": [
       "               date        X1         X2  conf1\n",
       "0  2022-10-03 10:30  5.751966  44.846856    1.0\n",
       "1  2022-10-03 12:40  6.989865  63.691903    1.0\n",
       "2  2022-10-04 15:00  4.640900  37.858959    1.0\n",
       "3  2022-10-06 18:00  6.300580  53.067628    1.0\n",
       "4  2022-10-10 11:33  4.854741  58.228480    1.0\n",
       "5  2022-10-10 18:34  6.768292  57.930207    1.0"
      ]
     },
     "execution_count": 67,
     "metadata": {},
     "output_type": "execute_result"
    }
   ],
   "source": [
    "df"
   ]
  },
  {
   "cell_type": "markdown",
   "id": "e4095018-55eb-48da-9e72-91d73a68b4b8",
   "metadata": {},
   "source": [
    "<img src='images/conf2.png'>"
   ]
  },
  {
   "cell_type": "markdown",
   "id": "57cf0def-ec0c-48cb-87de-5c5abb3022f0",
   "metadata": {},
   "source": [
    "Both `conf1` and `conf2` are function of `time` only!"
   ]
  },
  {
   "cell_type": "code",
   "execution_count": 68,
   "id": "56d62a71-3221-4cc9-b88e-3d35b9944a70",
   "metadata": {},
   "outputs": [],
   "source": [
    "df[\"conf2\"] = [0.5, 0.5, 1.0, 1.0, 0.5, 0.5]"
   ]
  },
  {
   "cell_type": "code",
   "execution_count": 69,
   "id": "37dc0aaa-11a8-49e8-aa2c-498454252027",
   "metadata": {},
   "outputs": [
    {
     "data": {
      "text/html": [
       "<div>\n",
       "<style scoped>\n",
       "    .dataframe tbody tr th:only-of-type {\n",
       "        vertical-align: middle;\n",
       "    }\n",
       "\n",
       "    .dataframe tbody tr th {\n",
       "        vertical-align: top;\n",
       "    }\n",
       "\n",
       "    .dataframe thead th {\n",
       "        text-align: right;\n",
       "    }\n",
       "</style>\n",
       "<table border=\"1\" class=\"dataframe\">\n",
       "  <thead>\n",
       "    <tr style=\"text-align: right;\">\n",
       "      <th></th>\n",
       "      <th>date</th>\n",
       "      <th>X1</th>\n",
       "      <th>X2</th>\n",
       "      <th>conf1</th>\n",
       "      <th>conf2</th>\n",
       "    </tr>\n",
       "  </thead>\n",
       "  <tbody>\n",
       "    <tr>\n",
       "      <th>0</th>\n",
       "      <td>2022-10-03 10:30</td>\n",
       "      <td>5.751966</td>\n",
       "      <td>44.846856</td>\n",
       "      <td>1.0</td>\n",
       "      <td>0.5</td>\n",
       "    </tr>\n",
       "    <tr>\n",
       "      <th>1</th>\n",
       "      <td>2022-10-03 12:40</td>\n",
       "      <td>6.989865</td>\n",
       "      <td>63.691903</td>\n",
       "      <td>1.0</td>\n",
       "      <td>0.5</td>\n",
       "    </tr>\n",
       "    <tr>\n",
       "      <th>2</th>\n",
       "      <td>2022-10-04 15:00</td>\n",
       "      <td>4.640900</td>\n",
       "      <td>37.858959</td>\n",
       "      <td>1.0</td>\n",
       "      <td>1.0</td>\n",
       "    </tr>\n",
       "    <tr>\n",
       "      <th>3</th>\n",
       "      <td>2022-10-06 18:00</td>\n",
       "      <td>6.300580</td>\n",
       "      <td>53.067628</td>\n",
       "      <td>1.0</td>\n",
       "      <td>1.0</td>\n",
       "    </tr>\n",
       "    <tr>\n",
       "      <th>4</th>\n",
       "      <td>2022-10-10 11:33</td>\n",
       "      <td>4.854741</td>\n",
       "      <td>58.228480</td>\n",
       "      <td>1.0</td>\n",
       "      <td>0.5</td>\n",
       "    </tr>\n",
       "    <tr>\n",
       "      <th>5</th>\n",
       "      <td>2022-10-10 18:34</td>\n",
       "      <td>6.768292</td>\n",
       "      <td>57.930207</td>\n",
       "      <td>1.0</td>\n",
       "      <td>0.5</td>\n",
       "    </tr>\n",
       "  </tbody>\n",
       "</table>\n",
       "</div>"
      ],
      "text/plain": [
       "               date        X1         X2  conf1  conf2\n",
       "0  2022-10-03 10:30  5.751966  44.846856    1.0    0.5\n",
       "1  2022-10-03 12:40  6.989865  63.691903    1.0    0.5\n",
       "2  2022-10-04 15:00  4.640900  37.858959    1.0    1.0\n",
       "3  2022-10-06 18:00  6.300580  53.067628    1.0    1.0\n",
       "4  2022-10-10 11:33  4.854741  58.228480    1.0    0.5\n",
       "5  2022-10-10 18:34  6.768292  57.930207    1.0    0.5"
      ]
     },
     "execution_count": 69,
     "metadata": {},
     "output_type": "execute_result"
    }
   ],
   "source": [
    "df"
   ]
  },
  {
   "cell_type": "markdown",
   "id": "ee3dc0e5-c55b-4ca1-a011-df501049bfe2",
   "metadata": {},
   "source": [
    "Note that calls from one day have the same `confidence factor` assigned as the key is `date`, not `datetime`. In fact"
   ]
  },
  {
   "cell_type": "code",
   "execution_count": 70,
   "id": "afe19fe4-a043-41cb-a135-4098b0443c22",
   "metadata": {},
   "outputs": [],
   "source": [
    "df.insert(0, 'level1_day', [1, 1, 2, 3, 4, 4])\n",
    "df.insert(1, 'level2_hour', [1, 2, 1, 1, 1, 2])"
   ]
  },
  {
   "cell_type": "code",
   "execution_count": 71,
   "id": "ac0026e6-2425-4b57-8d3e-c83237ecea7c",
   "metadata": {},
   "outputs": [
    {
     "data": {
      "text/html": [
       "<div>\n",
       "<style scoped>\n",
       "    .dataframe tbody tr th:only-of-type {\n",
       "        vertical-align: middle;\n",
       "    }\n",
       "\n",
       "    .dataframe tbody tr th {\n",
       "        vertical-align: top;\n",
       "    }\n",
       "\n",
       "    .dataframe thead th {\n",
       "        text-align: right;\n",
       "    }\n",
       "</style>\n",
       "<table border=\"1\" class=\"dataframe\">\n",
       "  <thead>\n",
       "    <tr style=\"text-align: right;\">\n",
       "      <th></th>\n",
       "      <th>level1_day</th>\n",
       "      <th>level2_hour</th>\n",
       "      <th>date</th>\n",
       "      <th>X1</th>\n",
       "      <th>X2</th>\n",
       "      <th>conf1</th>\n",
       "      <th>conf2</th>\n",
       "    </tr>\n",
       "  </thead>\n",
       "  <tbody>\n",
       "    <tr>\n",
       "      <th>0</th>\n",
       "      <td>1</td>\n",
       "      <td>1</td>\n",
       "      <td>2022-10-03 10:30</td>\n",
       "      <td>5.751966</td>\n",
       "      <td>44.846856</td>\n",
       "      <td>1.0</td>\n",
       "      <td>0.5</td>\n",
       "    </tr>\n",
       "    <tr>\n",
       "      <th>1</th>\n",
       "      <td>1</td>\n",
       "      <td>2</td>\n",
       "      <td>2022-10-03 12:40</td>\n",
       "      <td>6.989865</td>\n",
       "      <td>63.691903</td>\n",
       "      <td>1.0</td>\n",
       "      <td>0.5</td>\n",
       "    </tr>\n",
       "    <tr>\n",
       "      <th>2</th>\n",
       "      <td>2</td>\n",
       "      <td>1</td>\n",
       "      <td>2022-10-04 15:00</td>\n",
       "      <td>4.640900</td>\n",
       "      <td>37.858959</td>\n",
       "      <td>1.0</td>\n",
       "      <td>1.0</td>\n",
       "    </tr>\n",
       "    <tr>\n",
       "      <th>3</th>\n",
       "      <td>3</td>\n",
       "      <td>1</td>\n",
       "      <td>2022-10-06 18:00</td>\n",
       "      <td>6.300580</td>\n",
       "      <td>53.067628</td>\n",
       "      <td>1.0</td>\n",
       "      <td>1.0</td>\n",
       "    </tr>\n",
       "    <tr>\n",
       "      <th>4</th>\n",
       "      <td>4</td>\n",
       "      <td>1</td>\n",
       "      <td>2022-10-10 11:33</td>\n",
       "      <td>4.854741</td>\n",
       "      <td>58.228480</td>\n",
       "      <td>1.0</td>\n",
       "      <td>0.5</td>\n",
       "    </tr>\n",
       "    <tr>\n",
       "      <th>5</th>\n",
       "      <td>4</td>\n",
       "      <td>2</td>\n",
       "      <td>2022-10-10 18:34</td>\n",
       "      <td>6.768292</td>\n",
       "      <td>57.930207</td>\n",
       "      <td>1.0</td>\n",
       "      <td>0.5</td>\n",
       "    </tr>\n",
       "  </tbody>\n",
       "</table>\n",
       "</div>"
      ],
      "text/plain": [
       "   level1_day  level2_hour              date        X1         X2  conf1  \\\n",
       "0           1            1  2022-10-03 10:30  5.751966  44.846856    1.0   \n",
       "1           1            2  2022-10-03 12:40  6.989865  63.691903    1.0   \n",
       "2           2            1  2022-10-04 15:00  4.640900  37.858959    1.0   \n",
       "3           3            1  2022-10-06 18:00  6.300580  53.067628    1.0   \n",
       "4           4            1  2022-10-10 11:33  4.854741  58.228480    1.0   \n",
       "5           4            2  2022-10-10 18:34  6.768292  57.930207    1.0   \n",
       "\n",
       "   conf2  \n",
       "0    0.5  \n",
       "1    0.5  \n",
       "2    1.0  \n",
       "3    1.0  \n",
       "4    0.5  \n",
       "5    0.5  "
      ]
     },
     "execution_count": 71,
     "metadata": {},
     "output_type": "execute_result"
    }
   ],
   "source": [
    "df"
   ]
  },
  {
   "cell_type": "markdown",
   "id": "7dd07d65-a534-4a3f-bcb4-367e8c3606ab",
   "metadata": {},
   "source": [
    "---"
   ]
  },
  {
   "cell_type": "markdown",
   "id": "bdd4be06-0819-4cfd-bca5-746548b9268c",
   "metadata": {},
   "source": [
    "We use one of the `confidence factor` columns in a modelling procedure"
   ]
  },
  {
   "cell_type": "markdown",
   "id": "829193fe-bcc7-4934-9a3d-44d558156d10",
   "metadata": {},
   "source": [
    "```python\n",
    "model1 = SSFCM_with_CPR(data=df, confidence_factor=conf1)\n",
    "model1[\"estimated_conf\"]\n",
    "```"
   ]
  },
  {
   "cell_type": "markdown",
   "id": "ea294282-89ce-4932-a1a0-8d097f163945",
   "metadata": {},
   "source": [
    "It yields `adjusted confidence factor`"
   ]
  },
  {
   "cell_type": "code",
   "execution_count": 78,
   "id": "9e892147-8d08-4587-9a5b-4107084dfbe7",
   "metadata": {},
   "outputs": [],
   "source": [
    "s = np.round(np.random.uniform(0, 1, 6), 2)"
   ]
  },
  {
   "cell_type": "code",
   "execution_count": 79,
   "id": "c4f196ef-7ffa-4bca-8e8e-385a3276b3a6",
   "metadata": {},
   "outputs": [
    {
     "data": {
      "text/plain": [
       "array([0.47, 0.58, 0.05, 0.02, 0.44, 0.95])"
      ]
     },
     "execution_count": 79,
     "metadata": {},
     "output_type": "execute_result"
    }
   ],
   "source": [
    "s"
   ]
  },
  {
   "cell_type": "code",
   "execution_count": 80,
   "id": "8ccf0d6b-96ca-472c-85a9-7c0f7d89879c",
   "metadata": {},
   "outputs": [],
   "source": [
    "df[\"conf1_adjusted\"] = s"
   ]
  },
  {
   "cell_type": "code",
   "execution_count": 81,
   "id": "912bfd21-aa80-46ae-884e-95794acea395",
   "metadata": {},
   "outputs": [
    {
     "data": {
      "text/html": [
       "<div>\n",
       "<style scoped>\n",
       "    .dataframe tbody tr th:only-of-type {\n",
       "        vertical-align: middle;\n",
       "    }\n",
       "\n",
       "    .dataframe tbody tr th {\n",
       "        vertical-align: top;\n",
       "    }\n",
       "\n",
       "    .dataframe thead th {\n",
       "        text-align: right;\n",
       "    }\n",
       "</style>\n",
       "<table border=\"1\" class=\"dataframe\">\n",
       "  <thead>\n",
       "    <tr style=\"text-align: right;\">\n",
       "      <th></th>\n",
       "      <th>level1_day</th>\n",
       "      <th>level2_hour</th>\n",
       "      <th>date</th>\n",
       "      <th>X1</th>\n",
       "      <th>X2</th>\n",
       "      <th>conf1</th>\n",
       "      <th>conf2</th>\n",
       "      <th>conf1_adjusted</th>\n",
       "    </tr>\n",
       "  </thead>\n",
       "  <tbody>\n",
       "    <tr>\n",
       "      <th>0</th>\n",
       "      <td>1</td>\n",
       "      <td>1</td>\n",
       "      <td>2022-10-03 10:30</td>\n",
       "      <td>5.751966</td>\n",
       "      <td>44.846856</td>\n",
       "      <td>1.0</td>\n",
       "      <td>0.5</td>\n",
       "      <td>0.47</td>\n",
       "    </tr>\n",
       "    <tr>\n",
       "      <th>1</th>\n",
       "      <td>1</td>\n",
       "      <td>2</td>\n",
       "      <td>2022-10-03 12:40</td>\n",
       "      <td>6.989865</td>\n",
       "      <td>63.691903</td>\n",
       "      <td>1.0</td>\n",
       "      <td>0.5</td>\n",
       "      <td>0.58</td>\n",
       "    </tr>\n",
       "    <tr>\n",
       "      <th>2</th>\n",
       "      <td>2</td>\n",
       "      <td>1</td>\n",
       "      <td>2022-10-04 15:00</td>\n",
       "      <td>4.640900</td>\n",
       "      <td>37.858959</td>\n",
       "      <td>1.0</td>\n",
       "      <td>1.0</td>\n",
       "      <td>0.05</td>\n",
       "    </tr>\n",
       "    <tr>\n",
       "      <th>3</th>\n",
       "      <td>3</td>\n",
       "      <td>1</td>\n",
       "      <td>2022-10-06 18:00</td>\n",
       "      <td>6.300580</td>\n",
       "      <td>53.067628</td>\n",
       "      <td>1.0</td>\n",
       "      <td>1.0</td>\n",
       "      <td>0.02</td>\n",
       "    </tr>\n",
       "    <tr>\n",
       "      <th>4</th>\n",
       "      <td>4</td>\n",
       "      <td>1</td>\n",
       "      <td>2022-10-10 11:33</td>\n",
       "      <td>4.854741</td>\n",
       "      <td>58.228480</td>\n",
       "      <td>1.0</td>\n",
       "      <td>0.5</td>\n",
       "      <td>0.44</td>\n",
       "    </tr>\n",
       "    <tr>\n",
       "      <th>5</th>\n",
       "      <td>4</td>\n",
       "      <td>2</td>\n",
       "      <td>2022-10-10 18:34</td>\n",
       "      <td>6.768292</td>\n",
       "      <td>57.930207</td>\n",
       "      <td>1.0</td>\n",
       "      <td>0.5</td>\n",
       "      <td>0.95</td>\n",
       "    </tr>\n",
       "  </tbody>\n",
       "</table>\n",
       "</div>"
      ],
      "text/plain": [
       "   level1_day  level2_hour              date        X1         X2  conf1  \\\n",
       "0           1            1  2022-10-03 10:30  5.751966  44.846856    1.0   \n",
       "1           1            2  2022-10-03 12:40  6.989865  63.691903    1.0   \n",
       "2           2            1  2022-10-04 15:00  4.640900  37.858959    1.0   \n",
       "3           3            1  2022-10-06 18:00  6.300580  53.067628    1.0   \n",
       "4           4            1  2022-10-10 11:33  4.854741  58.228480    1.0   \n",
       "5           4            2  2022-10-10 18:34  6.768292  57.930207    1.0   \n",
       "\n",
       "   conf2  conf1_adjusted  \n",
       "0    0.5            0.47  \n",
       "1    0.5            0.58  \n",
       "2    1.0            0.05  \n",
       "3    1.0            0.02  \n",
       "4    0.5            0.44  \n",
       "5    0.5            0.95  "
      ]
     },
     "execution_count": 81,
     "metadata": {},
     "output_type": "execute_result"
    }
   ],
   "source": [
    "df"
   ]
  },
  {
   "cell_type": "markdown",
   "id": "ea90fb0d-ea47-4712-b356-a0c64b75e9cb",
   "metadata": {},
   "source": [
    "Note this is a first step of CPR procedure - estimating `adjusted confidence factor` based on data. <br>\n",
    "\n",
    "We may want now to use in a final model."
   ]
  },
  {
   "cell_type": "markdown",
   "id": "b86ef0c1-518e-4829-905b-04a41f86f2db",
   "metadata": {},
   "source": [
    "```python\n",
    "model2 = SSFCM(data=df, confidence_factor=conf1_adjusted)\n",
    "```"
   ]
  },
  {
   "cell_type": "markdown",
   "id": "608ad03e-868d-46bf-983e-eebbe3011116",
   "metadata": {},
   "source": [
    "In such a model, we are no longer interested in estimating `adjusted confidence factor` - now it's a classifier and accuracy that are of interest.\n",
    "\n",
    "We use adjusted confidence factor just to reflect the true (estimated) label uncertainty impact on the key mechanism of interest - the accuracy of a SSFCM classifier."
   ]
  },
  {
   "cell_type": "markdown",
   "id": "e832006b-79ce-4bd6-a893-b5f2e88b5168",
   "metadata": {},
   "source": [
    "Note that the `conf1_adjusted` values are now on `level2_hour` - unique value of `adjusted confidence` for each single call, not for each single day!\n",
    "\n",
    "It now has nothing (directly) to do with the `confidence factor`, but the mechanism of assigning label certainty should be the same, although discrete\n",
    ":"
   ]
  },
  {
   "cell_type": "markdown",
   "id": "543e814c-2e30-4190-89c4-5b74ae871013",
   "metadata": {},
   "source": [
    "<img src=\"images/conf3.JPG\" width=\"600\">"
   ]
  },
  {
   "cell_type": "markdown",
   "id": "ddc3dc72-8c2f-4d7a-a716-0f67a730ef85",
   "metadata": {},
   "source": [
    "Note: two calls from \"2022-10-10\" have different values of `confindence factor` fed to the algorithm!"
   ]
  },
  {
   "cell_type": "markdown",
   "id": "383b371e-c737-4dd1-9a2d-de34b1c69801",
   "metadata": {},
   "source": [
    "Technically, we want:"
   ]
  },
  {
   "cell_type": "markdown",
   "id": "7d6c9f7d-6821-4755-aece-767f16a1b13a",
   "metadata": {},
   "source": [
    "<img src=\"images/conf4.png\" width=\"800\">"
   ]
  },
  {
   "cell_type": "code",
   "execution_count": null,
   "id": "249c71a1-8014-4607-99ad-10c34ea75469",
   "metadata": {},
   "outputs": [],
   "source": []
  }
 ],
 "metadata": {
  "kernelspec": {
   "display_name": "Python 3 (ipykernel)",
   "language": "python",
   "name": "python3"
  },
  "language_info": {
   "codemirror_mode": {
    "name": "ipython",
    "version": 3
   },
   "file_extension": ".py",
   "mimetype": "text/x-python",
   "name": "python",
   "nbconvert_exporter": "python",
   "pygments_lexer": "ipython3",
   "version": "3.8.10"
  }
 },
 "nbformat": 4,
 "nbformat_minor": 5
}
